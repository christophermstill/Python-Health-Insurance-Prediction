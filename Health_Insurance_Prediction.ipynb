{
  "nbformat": 4,
  "nbformat_minor": 0,
  "metadata": {
    "kernelspec": {
      "display_name": "Python [conda env:anaconda3]",
      "language": "python",
      "name": "conda-env-anaconda3-py"
    },
    "language_info": {
      "codemirror_mode": {
        "name": "ipython",
        "version": 3
      },
      "file_extension": ".py",
      "mimetype": "text/x-python",
      "name": "python",
      "nbconvert_exporter": "python",
      "pygments_lexer": "ipython3",
      "version": "3.6.6"
    },
    "colab": {
      "name": "Still_Assignment3.ipynb",
      "provenance": [],
      "collapsed_sections": []
    }
  },
  "cells": [
    {
      "cell_type": "code",
      "metadata": {
        "id": "WYnQAlPTq6TG",
        "colab_type": "code",
        "outputId": "b3d99fd4-ec29-4fa8-fe7b-f0adecfad049",
        "colab": {
          "base_uri": "https://localhost:8080/",
          "height": 255
        }
      },
      "source": [
        "import tensorflow\n",
        "import pandas as pd\n",
        "from tensorflow import keras\n",
        "from keras.models import Sequential\n",
        "from keras.layers import Dense\n",
        "from keras.callbacks import EarlyStopping\n",
        "from keras.utils import to_categorical\n",
        "import numpy as np\n",
        "from sklearn.cluster import KMeans\n",
        "import matplotlib.pyplot as plt\n",
        "from matplotlib import style\n",
        "\n",
        "url = \"https://raw.githubusercontent.com/stedy/Machine-Learning-with-R-datasets/master/insurance.csv\"\n",
        "\n",
        "#read in training data\n",
        "train_df = pd.read_csv(url)\n",
        "\n",
        "def handle_non_numerical_data(df):\n",
        "    columns = df.columns.values\n",
        "    for column in columns:\n",
        "        text_digit_vals = {}\n",
        "        def convert_to_int(val):\n",
        "            return text_digit_vals[val]\n",
        "\n",
        "        if df[column].dtype != np.int64 and df[column].dtype != np.float64:\n",
        "            column_contents = df[column].values.tolist()\n",
        "            unique_elements = set(column_contents)\n",
        "            x = 0\n",
        "            for unique in unique_elements:\n",
        "                if unique not in text_digit_vals:\n",
        "                    text_digit_vals[unique] = x\n",
        "                    x+=1\n",
        "\n",
        "            df[column] = list(map(convert_to_int, df[column]))\n",
        "\n",
        "    return df\n",
        "\n",
        "train_df = handle_non_numerical_data(train_df)\n",
        "print(train_df)\n"
      ],
      "execution_count": 16,
      "outputs": [
        {
          "output_type": "stream",
          "text": [
            "      age  sex     bmi  children  smoker  region      charges\n",
            "0      19    1  27.900         0       1       3  16884.92400\n",
            "1      18    0  33.770         1       0       2   1725.55230\n",
            "2      28    0  33.000         3       0       2   4449.46200\n",
            "3      33    0  22.705         0       0       0  21984.47061\n",
            "4      32    0  28.880         0       0       0   3866.85520\n",
            "...   ...  ...     ...       ...     ...     ...          ...\n",
            "1333   50    0  30.970         3       0       0  10600.54830\n",
            "1334   18    1  31.920         0       0       1   2205.98080\n",
            "1335   18    1  36.850         0       0       2   1629.83350\n",
            "1336   21    1  25.800         0       0       3   2007.94500\n",
            "1337   61    1  29.070         0       1       0  29141.36030\n",
            "\n",
            "[1338 rows x 7 columns]\n"
          ],
          "name": "stdout"
        }
      ]
    },
    {
      "cell_type": "code",
      "metadata": {
        "id": "hf_HozVr9qtK",
        "colab_type": "code",
        "outputId": "49947a82-b34f-4094-fe60-711969a2307c",
        "colab": {
          "base_uri": "https://localhost:8080/",
          "height": 1000
        }
      },
      "source": [
        "\n",
        "\n",
        "\n",
        "\n",
        "\n",
        "#view data structure\n",
        "train_df.head()\n",
        "\n",
        "#create a dataframe with all training data except the target column\n",
        "train_X = train_df.drop(columns=['charges']).drop(columns=['region'])\n",
        "# train_X = train_df.drop(columns=['charges'])\n",
        "#check that the target variable has been removed\n",
        "train_X.head()\n",
        "\n",
        "#create a dataframe with only the target column\n",
        "train_y = train_df[['charges']]\n",
        "\n",
        "#view dataframe\n",
        "train_y.head()\n",
        "\n",
        "#create model\n",
        "model = Sequential()\n",
        "\n",
        "#get number of columns in training data\n",
        "n_cols = train_X.shape[1]\n",
        "\n",
        "#add model layers\n",
        "model.add(Dense(10, activation='relu', input_shape=(n_cols,)))\n",
        "model.add(Dense(10, activation='relu'))\n",
        "model.add(Dense(1))\n",
        "\n",
        "#compile model using mse as a measure of model performance\n",
        "model.compile(optimizer='adam', loss='mean_squared_error', metrics=['accuracy'])\n",
        "\n",
        "#set early stopping monitor so the model stops training when it won't improve anymore\n",
        "early_stopping_monitor = EarlyStopping(patience=3)\n",
        "\n",
        "training = model.fit(train_X, train_y, validation_split=0.2, epochs=30, callbacks=[early_stopping_monitor])\n",
        "\n",
        "\n"
      ],
      "execution_count": 17,
      "outputs": [
        {
          "output_type": "stream",
          "text": [
            "Train on 1070 samples, validate on 268 samples\n",
            "Epoch 1/30\n",
            "1070/1070 [==============================] - 0s 392us/step - loss: 319370777.7794 - acc: 0.0000e+00 - val_loss: 336071113.5522 - val_acc: 0.0000e+00\n",
            "Epoch 2/30\n",
            "1070/1070 [==============================] - 0s 49us/step - loss: 319261011.6785 - acc: 0.0000e+00 - val_loss: 335973569.1940 - val_acc: 0.0000e+00\n",
            "Epoch 3/30\n",
            "1070/1070 [==============================] - 0s 46us/step - loss: 319167990.3701 - acc: 0.0000e+00 - val_loss: 335884759.8806 - val_acc: 0.0000e+00\n",
            "Epoch 4/30\n",
            "1070/1070 [==============================] - 0s 43us/step - loss: 319068277.8318 - acc: 0.0000e+00 - val_loss: 335776944.9552 - val_acc: 0.0000e+00\n",
            "Epoch 5/30\n",
            "1070/1070 [==============================] - 0s 40us/step - loss: 318936308.7551 - acc: 0.0000e+00 - val_loss: 335626501.9701 - val_acc: 0.0000e+00\n",
            "Epoch 6/30\n",
            "1070/1070 [==============================] - 0s 50us/step - loss: 318749908.5607 - acc: 0.0000e+00 - val_loss: 335409636.5373 - val_acc: 0.0000e+00\n",
            "Epoch 7/30\n",
            "1070/1070 [==============================] - 0s 50us/step - loss: 318487894.1308 - acc: 0.0000e+00 - val_loss: 335106180.7761 - val_acc: 0.0000e+00\n",
            "Epoch 8/30\n",
            "1070/1070 [==============================] - 0s 45us/step - loss: 318107315.4991 - acc: 0.0000e+00 - val_loss: 334656360.5970 - val_acc: 0.0000e+00\n",
            "Epoch 9/30\n",
            "1070/1070 [==============================] - 0s 48us/step - loss: 317523539.2598 - acc: 0.0000e+00 - val_loss: 333939656.8358 - val_acc: 0.0000e+00\n",
            "Epoch 10/30\n",
            "1070/1070 [==============================] - 0s 43us/step - loss: 316531821.9364 - acc: 0.0000e+00 - val_loss: 332609366.4478 - val_acc: 0.0000e+00\n",
            "Epoch 11/30\n",
            "1070/1070 [==============================] - 0s 50us/step - loss: 314800647.8355 - acc: 0.0000e+00 - val_loss: 330393722.0299 - val_acc: 0.0000e+00\n",
            "Epoch 12/30\n",
            "1070/1070 [==============================] - 0s 47us/step - loss: 311974244.2467 - acc: 0.0000e+00 - val_loss: 326934842.9851 - val_acc: 0.0000e+00\n",
            "Epoch 13/30\n",
            "1070/1070 [==============================] - 0s 46us/step - loss: 307895959.1477 - acc: 0.0000e+00 - val_loss: 322476358.6866 - val_acc: 0.0000e+00\n",
            "Epoch 14/30\n",
            "1070/1070 [==============================] - 0s 41us/step - loss: 302905134.7140 - acc: 0.0000e+00 - val_loss: 316935419.7015 - val_acc: 0.0000e+00\n",
            "Epoch 15/30\n",
            "1070/1070 [==============================] - 0s 49us/step - loss: 296896331.6636 - acc: 0.0000e+00 - val_loss: 310576065.1940 - val_acc: 0.0000e+00\n",
            "Epoch 16/30\n",
            "1070/1070 [==============================] - 0s 47us/step - loss: 289974685.0692 - acc: 0.0000e+00 - val_loss: 303382270.8060 - val_acc: 0.0000e+00\n",
            "Epoch 17/30\n",
            "1070/1070 [==============================] - 0s 43us/step - loss: 282196588.7402 - acc: 0.0000e+00 - val_loss: 295240959.0448 - val_acc: 0.0000e+00\n",
            "Epoch 18/30\n",
            "1070/1070 [==============================] - 0s 43us/step - loss: 273590304.5981 - acc: 0.0000e+00 - val_loss: 286524517.7313 - val_acc: 0.0000e+00\n",
            "Epoch 19/30\n",
            "1070/1070 [==============================] - 0s 54us/step - loss: 264420769.2860 - acc: 0.0000e+00 - val_loss: 277115818.8657 - val_acc: 0.0000e+00\n",
            "Epoch 20/30\n",
            "1070/1070 [==============================] - 0s 44us/step - loss: 254780246.4897 - acc: 0.0000e+00 - val_loss: 267263359.5224 - val_acc: 0.0000e+00\n",
            "Epoch 21/30\n",
            "1070/1070 [==============================] - 0s 41us/step - loss: 244630887.7458 - acc: 0.0000e+00 - val_loss: 257177708.5373 - val_acc: 0.0000e+00\n",
            "Epoch 22/30\n",
            "1070/1070 [==============================] - 0s 45us/step - loss: 234313609.7495 - acc: 0.0000e+00 - val_loss: 246811000.3582 - val_acc: 0.0000e+00\n",
            "Epoch 23/30\n",
            "1070/1070 [==============================] - 0s 48us/step - loss: 223790887.7757 - acc: 0.0000e+00 - val_loss: 236413572.8955 - val_acc: 0.0000e+00\n",
            "Epoch 24/30\n",
            "1070/1070 [==============================] - 0s 44us/step - loss: 213364411.2299 - acc: 0.0000e+00 - val_loss: 225926038.9254 - val_acc: 0.0000e+00\n",
            "Epoch 25/30\n",
            "1070/1070 [==============================] - 0s 45us/step - loss: 203235595.6935 - acc: 0.0000e+00 - val_loss: 215809475.2239 - val_acc: 0.0000e+00\n",
            "Epoch 26/30\n",
            "1070/1070 [==============================] - 0s 50us/step - loss: 193394310.5794 - acc: 0.0000e+00 - val_loss: 206241337.1940 - val_acc: 0.0000e+00\n",
            "Epoch 27/30\n",
            "1070/1070 [==============================] - 0s 45us/step - loss: 184081874.8561 - acc: 0.0000e+00 - val_loss: 196834296.8358 - val_acc: 0.0000e+00\n",
            "Epoch 28/30\n",
            "1070/1070 [==============================] - 0s 45us/step - loss: 175326654.0561 - acc: 0.0000e+00 - val_loss: 188455043.4030 - val_acc: 0.0000e+00\n",
            "Epoch 29/30\n",
            "1070/1070 [==============================] - 0s 55us/step - loss: 167357012.4262 - acc: 0.0000e+00 - val_loss: 180808001.3731 - val_acc: 0.0000e+00\n",
            "Epoch 30/30\n",
            "1070/1070 [==============================] - 0s 41us/step - loss: 160124401.1364 - acc: 0.0000e+00 - val_loss: 173871032.0597 - val_acc: 0.0000e+00\n"
          ],
          "name": "stdout"
        }
      ]
    },
    {
      "cell_type": "code",
      "metadata": {
        "id": "Q1-0olnFDRLx",
        "colab_type": "code",
        "colab": {
          "base_uri": "https://localhost:8080/",
          "height": 34
        },
        "outputId": "45018afa-4525-40b6-b618-dfd0e3151c9d"
      },
      "source": [
        "accuracy = training.history['acc'][-1]\n",
        "\n",
        "prediction['accuracy'] = accuracy\n",
        "print(prediction)"
      ],
      "execution_count": 18,
      "outputs": [
        {
          "output_type": "stream",
          "text": [
            "{'accuracy': 0.0}\n"
          ],
          "name": "stdout"
        }
      ]
    },
    {
      "cell_type": "code",
      "metadata": {
        "id": "qkjbi3HKDzE_",
        "colab_type": "code",
        "colab": {
          "base_uri": "https://localhost:8080/",
          "height": 51
        },
        "outputId": "1a635664-0001-49a7-a70f-3ae55d15b425"
      },
      "source": [
        "predi = np.array([24.0,0.0,36.0,1.0,1.0],  dtype=\"float32\").reshape(-1, 5)\n",
        "print( model.predict(predi))\n",
        "\n",
        "predi = np.array([56.0,1.0,33.0,0.0,0.0],  dtype=\"float32\").reshape(-1, 5)\n",
        "print( model.predict(predi))"
      ],
      "execution_count": 19,
      "outputs": [
        {
          "output_type": "stream",
          "text": [
            "[[7241.396]]\n",
            "[[10156.942]]\n"
          ],
          "name": "stdout"
        }
      ]
    }
  ]
}